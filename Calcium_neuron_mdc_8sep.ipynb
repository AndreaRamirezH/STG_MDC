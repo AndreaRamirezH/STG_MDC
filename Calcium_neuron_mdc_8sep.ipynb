{
 "cells": [
  {
   "cell_type": "markdown",
   "id": "fbdb190d",
   "metadata": {},
   "source": [
    "Solve neuron voltage, calcium, gating kinetics with homeo. regulation using ODE solver."
   ]
  },
  {
   "cell_type": "code",
   "execution_count": null,
   "id": "7e6c32f5",
   "metadata": {},
   "outputs": [],
   "source": [
    "] activate ."
   ]
  },
  {
   "cell_type": "code",
   "execution_count": null,
   "id": "26573ae8",
   "metadata": {},
   "outputs": [],
   "source": [
    "] add OrdinaryDiffEq"
   ]
  },
  {
   "cell_type": "code",
   "execution_count": null,
   "id": "199597cb",
   "metadata": {},
   "outputs": [],
   "source": [
    "] add ModelingToolkit MinimallyDisruptiveCurves Plots DiffEqParamEstim DiffEqSensitivity NumericalIntegration LinearAlgebra ForwardDiff"
   ]
  },
  {
   "cell_type": "code",
   "execution_count": null,
   "id": "0bee6237",
   "metadata": {},
   "outputs": [],
   "source": [
    "] status"
   ]
  },
  {
   "cell_type": "code",
   "execution_count": null,
   "id": "3485d850",
   "metadata": {},
   "outputs": [],
   "source": [
    "using OrdinaryDiffEq, ModelingToolkit, MinimallyDisruptiveCurves, Plots, DiffEqParamEstim, DiffEqSensitivity\n",
    "using NumericalIntegration, LinearAlgebra, ForwardDiff"
   ]
  },
  {
   "cell_type": "code",
   "execution_count": null,
   "id": "dbee6a3a",
   "metadata": {},
   "outputs": [],
   "source": [
    "const D_noise = 0.01\n",
    "const VNa = 50\n",
    "const VK = -80\n",
    "const VCa = 100\n",
    "const VCl = -20\n",
    "const Vleak = -5\n",
    "const taug = 1.0e3\n",
    "const tauNa = 1.0e3\n",
    "const Catgt = 50.\n",
    "const gleak = 0.01\n",
    "\n",
    "boltz(V,A,B)= 1.0 ./(1.0 + exp((V+A)./B))\n",
    "\n",
    "tauX(V,A,B,D,E)= A - (B*boltz(V,D,E))\n",
    "\n",
    "function Neuron_wHomeo_dynamics(input)\n",
    "    \n",
    "    @parameters t\n",
    "    D = Differential(t)\n",
    "    \n",
    "    @parameters  gNa_tgt gKd_tgt gA_tgt gCaT_tgt gCaS_tgt gKCa_tgt gH_tgt\n",
    "    paramvars = [gNa_tgt, gKd_tgt, gA_tgt, gCaT_tgt, gCaS_tgt, gKCa_tgt, gH_tgt]\n",
    "    \n",
    "    @variables V(t) Ca(t) mNa(t) hNa(t) mKd(t) mA(t) hA(t) mCaT(t) hCaT(t) mCaS(t) hCaS(t) mKCa(t) mH(t) gNa(t) gKd(t) gA(t) gCaT(t) gCaS(t) gKCa(t) gH(t) RNa(t) RKd(t) RA(t) RCaT(t) RCaS(t) RKCa(t) RH(t) \n",
    "    statevars = [V, Ca, mNa, hNa, mKd, mA, hA, mCaT, hCaT, mCaS, hCaS, mKCa, mH,\n",
    "                gNa, gKd, gA, gCaT, gCaS, gKCa, gH, RNa, RKd, RA, RCaT, RCaS, RKCa, RH]\n",
    "    \n",
    "    #gene expression taus\n",
    "    tauCaT = (gNa_tgt/gCaT_tgt)*tauNa \n",
    "    tauCaS = (gNa_tgt/gCaS_tgt)*tauNa \n",
    "    tauA = (gNa_tgt/gA_tgt)*tauNa \n",
    "    tauKd = (gNa_tgt/gKd_tgt)*tauNa \n",
    "    tauKCa = (gNa_tgt/gKCa_tgt)*tauNa \n",
    "    tauH = (gNa_tgt/gH_tgt)*tauNa \n",
    "    \n",
    "    #currents\n",
    "    INa = gNa*mNa^3*hNa*(VNa - V)\n",
    "    ICaS= gCaS*mCaS^3*hCaS*(VCa - V)\n",
    "    ICaT= gCaT*mCaT^3*hCaT*(VCa - V)\n",
    "    Ih= gH*mH*(VCl - V)\n",
    "    IKa= gA*mA^3*hA*(VK - V)\n",
    "    IKCa= gKCa*mKCa^4*(VK - V)\n",
    "    IKd= gKd*mKd^4*(VK - V)\n",
    "    Ileak= gleak*(Vleak - V)\n",
    "    \n",
    "    \n",
    "    #gating\n",
    "    mNainf  = boltz(V,25.5,-5.29)\n",
    "    taumNa  = tauX(V,1.32,1.26,120.,-25.)\n",
    "    hNainf  = boltz(V,48.9,5.18)\n",
    "    tauhNa  = (0.67/(1+exp((V+62.9)/-10.0)))*(1.5 + 1/(1+exp((V+34.9)/3.6)))\n",
    "    \n",
    "    mCaTinf  = boltz(V,27.1,-7.2)\n",
    "    taumCaT  = tauX(V,21.7,21.3,68.1,-20.5)\n",
    "    hCaTinf  = boltz(V,32.1,5.5)\n",
    "    tauhCaT  = tauX(V,105.,89.8,55.,-16.9)\n",
    "    \n",
    "    mCaSinf  = boltz(V,33.,-8.1)\n",
    "    taumCaS  = (1.4 + (7/((exp((V+27)/10))+(exp((V+70)/-13)))))\n",
    "    hCaSinf  = boltz(V,60.,6.2)\n",
    "    tauhCaS  = 60 + (150/((exp((V+55)/9))+(exp((V+65)/-16))))\n",
    "    \n",
    "    mAinf  = boltz(V,27.2,-8.7)\n",
    "    taumA  = tauX(V,11.6,10.4,32.9,-15.2)\n",
    "    hAinf  = boltz(V,56.9,4.9)\n",
    "    tauhA  = tauX(V,38.6,29.2,38.9,-26.5)\n",
    "    \n",
    "    mKCainf = (Ca/(Ca+3.0))/(1+exp((V+28.3)/-12.6))\n",
    "    taumKCa  = tauX(V,90.3,75.1,46.,-22.7)\n",
    "    \n",
    "    mKdinf  = boltz(V,12.3,-11.8)\n",
    "    taumKd  = tauX(V,7.2,6.4,28.3,-19.2)\n",
    "    \n",
    "    mHinf  = boltz(V,70.,6.)\n",
    "    taumH  = tauX(V,272.,-1499.,42.2,-8.73)\n",
    "    \n",
    "    Ca_inf = 0.05 + 0.94*(ICaS + ICaT)\n",
    "    \n",
    "    eqs = [\n",
    "        D(V) ~          INa+ICaT+ICaS+IKa+IKCa+IKd+Ih+Ileak,\n",
    "        D(Ca) ~                  (1/20.)*(Ca_inf - Ca), # originally no tauCa = 20 \n",
    "        D(mNa) ~                 (1/taumNa)*(mNainf - mNa), \n",
    "        D(hNa) ~                 (1/tauhNa)*(hNainf - hNa), \n",
    "        D(mCaS) ~                (1/taumCaS)*(mCaSinf - mCaS), \n",
    "        D(hCaS) ~                (1/tauhCaS)*(hCaSinf - hCaS), \n",
    "        D(mCaT) ~                (1/taumCaT)*(mCaTinf - mCaT), \n",
    "        D(hCaT) ~                (1/tauhCaT)*(hCaTinf - hCaT), \n",
    "        D(mH) ~                  (1/taumH)*(mHinf - mH), \n",
    "        D(mA) ~                  (1/taumA)*(mAinf - mA), \n",
    "        D(hA) ~                  (1/tauhA)*(hAinf - hA), \n",
    "        D(mKCa) ~                (1/taumKCa)*(mKCainf - mKCa), \n",
    "        D(mKd) ~                 (1/taumKd)*(mKdinf - mKd),\n",
    "        \n",
    "        D(gNa) ~                 (1/taug)*(RNa-gNa),\n",
    "        D(gCaS) ~                (1/taug)*(RCaS-gCaS),\n",
    "        D(gCaT) ~                (1/taug)*(RCaT-gCaT),\n",
    "        D(gA) ~                  (1/taug)*(RA-gA),\n",
    "        D(gKd) ~                 (1/taug)*(RKd-gKd),\n",
    "        D(gKCa) ~                (1/taug)*(RKCa-gKCa),\n",
    "        D(gH) ~                  (1/taug)*(RH-gH),\n",
    "        D(RNa) ~                 (1/tauNa)*(Catgt-Ca),\n",
    "        D(RCaS) ~                (1/tauCaS)*(Catgt-Ca),\n",
    "        D(RCaT) ~                (1/tauCaT)*(Catgt-Ca),\n",
    "        D(RA) ~                  (1/tauA)*(Catgt-Ca),\n",
    "        D(RKd) ~                 (1/tauKd)*(Catgt-Ca),\n",
    "        D(RKCa) ~                (1/tauKCa)*(Catgt-Ca),\n",
    "        D(RH) ~                  (1/tauH)*(Catgt-Ca)\n",
    "        \n",
    "    ]\n",
    "    \n",
    "    ps = paramvars .=> [700.,90.,85.,6.25,2.25,50.,0.3]\n",
    "    ics = statevars .=> [-60,0.05,0,0,0,0,0,0,0,0,0,0,0,780.,100.,94.,7.,2.5,55.,0.03,\n",
    "                        780.,100.,94.,7.,2.5,55.,0.03]\n",
    "    \n",
    "    od = ODESystem(eqs, t, statevars, paramvars)\n",
    "    tspan = (0.,800.)\n",
    "    return od, ics, tspan, ps\n",
    "end\n"
   ]
  },
  {
   "cell_type": "code",
   "execution_count": null,
   "id": "ecff5b88",
   "metadata": {},
   "outputs": [],
   "source": [
    "alg = Rosenbrock23\n",
    "solve = OrdinaryDiffEq.solve "
   ]
  },
  {
   "cell_type": "code",
   "execution_count": null,
   "id": "fea7f04c",
   "metadata": {},
   "outputs": [],
   "source": [
    "od,ic,_ , ps = Neuron_wHomeo_dynamics(t->0.);\n",
    "tspan = (0,800.);\n",
    "tsteps = 0.:10.:800; "
   ]
  },
  {
   "cell_type": "code",
   "execution_count": null,
   "id": "eb3243ce",
   "metadata": {},
   "outputs": [],
   "source": [
    "nom_prob = ODEProblem(od,ic,tspan,ps)\n",
    "p0 = last.(ps)"
   ]
  },
  {
   "cell_type": "code",
   "execution_count": null,
   "id": "50788b82",
   "metadata": {},
   "outputs": [],
   "source": [
    "#nom_sol = solve(nom_prob, alg())\n",
    "plot()\n",
    "plot(nom_sol,legend=:false)\n",
    "ylims!((-80,200))"
   ]
  },
  {
   "cell_type": "markdown",
   "id": "2fc41479",
   "metadata": {},
   "source": [
    "### Cost function\n",
    "$$ C_1(p) = \\int^{t_f}_{t_0} | Ca_{tgt} - Ca (p, t)| \\ dt $$\n",
    "where $p$ are varying parameters.\n"
   ]
  },
  {
   "cell_type": "code",
   "execution_count": null,
   "id": "405ffb70",
   "metadata": {},
   "outputs": [],
   "source": [
    "t0 = 400.; tf = 800.\n",
    "tsteps = filter(t-> t>t0, nom_sol.t)\n",
    "t0_idx = findfirst(x-> x>t0, nom_sol.t)\n",
    "nom_ca = nom_sol[2,t0_idx:end];"
   ]
  },
  {
   "cell_type": "code",
   "execution_count": null,
   "id": "544d8435",
   "metadata": {},
   "outputs": [],
   "source": [
    "nom_sol[14:20,t0_idx:end]\n",
    "#7 conductantces from t0=400 to tf=end=800"
   ]
  },
  {
   "cell_type": "code",
   "execution_count": null,
   "id": "8377b1ed",
   "metadata": {},
   "outputs": [],
   "source": [
    "integrand(el1, el2) = sum(abs2, el1 - el2)\n",
    "lossf_1(sol) = sum(integrand(Catgt,el2) for el2 in sol[2,t0_idx:end]);"
   ]
  },
  {
   "cell_type": "code",
   "execution_count": null,
   "id": "aa5ca05b",
   "metadata": {},
   "outputs": [],
   "source": [
    "cost_catgt = build_loss_objective(nom_prob,alg(), saveat = tsteps, lossf_1;mpg_autodiff=true);"
   ]
  },
  {
   "cell_type": "code",
   "execution_count": null,
   "id": "5521e6dd",
   "metadata": {},
   "outputs": [],
   "source": [
    "grad_holder = deepcopy(p0)\n",
    "@show cost_catgt(p0,grad_holder)\n",
    "@show grad_holder;"
   ]
  },
  {
   "cell_type": "markdown",
   "id": "365bc8e8",
   "metadata": {},
   "source": [
    "Numerical integration gives a smaller cost"
   ]
  },
  {
   "cell_type": "code",
   "execution_count": null,
   "id": "4fd9e56c",
   "metadata": {},
   "outputs": [],
   "source": [
    "#using Calculus"
   ]
  },
  {
   "cell_type": "code",
   "execution_count": null,
   "id": "75872a9f",
   "metadata": {},
   "outputs": [],
   "source": [
    "function redo(p)\n",
    "    prob = remake(nom_prob; p=p)\n",
    "    sol = solve(prob, alg())\n",
    "    return prob,sol\n",
    "end\n",
    "\n",
    "function loss_1(p)\n",
    "  prob,sol = redo(p)\n",
    "  ca_sol = sol[2,t0_idx:end]\n",
    "  x = sol.t[t0_idx:end]\n",
    "  y = abs2.(50.0 .- ca_sol)\n",
    "  loss = integrate(x,y)\n",
    "  return loss\n",
    "end\n",
    "loss_1(p0)"
   ]
  },
  {
   "cell_type": "code",
   "execution_count": null,
   "id": "f566a397",
   "metadata": {},
   "outputs": [],
   "source": [
    "#integrate(nom_sol.t[t0_idx:end],nom_ca)"
   ]
  },
  {
   "cell_type": "markdown",
   "id": "b2d1546e",
   "metadata": {},
   "source": [
    "### Slightly different cost function \n",
    "Now the difference is nom_sol_ca - sol_ca\n",
    "\n",
    "$$ C_2(p) = \\int^{t_f}_{t_0} | Ca (p0,t) - Ca (p, t)|  dt $$\n",
    "where $p$ are varying parameters."
   ]
  },
  {
   "cell_type": "code",
   "execution_count": null,
   "id": "82f89044",
   "metadata": {},
   "outputs": [],
   "source": [
    "lossf2(sol,nom_sol) = sum( integrand(el1,el2) for (el1,el2) in zip(sol[2,t0_idx:end],nom_sol[2,t0_idx:end])  )\n",
    "lossf_2(sol) = lossf2(sol,nom_sol)"
   ]
  },
  {
   "cell_type": "code",
   "execution_count": null,
   "id": "0821a2d4",
   "metadata": {},
   "outputs": [],
   "source": [
    "cost2 = build_loss_objective(nom_prob,alg(), saveat = tsteps, lossf_2;mpg_autodiff=true);"
   ]
  },
  {
   "cell_type": "code",
   "execution_count": null,
   "id": "c09010c3",
   "metadata": {},
   "outputs": [],
   "source": [
    "p0 = last.(ps)\n",
    "grad_template = deepcopy(p0)\n",
    "@show cost2(p0,grad_template)\n",
    "@show grad_template;\n",
    "\n",
    "#not zero but not huge like with costfunction1"
   ]
  },
  {
   "cell_type": "code",
   "execution_count": null,
   "id": "3234bb31",
   "metadata": {},
   "outputs": [],
   "source": [
    "#numerical integration and then we use DiffCost to construct cost\n",
    "\n",
    "function loss2(p)\n",
    "  prob,sol = redo(p)\n",
    "  ca_sol = sol[2,t0_idx:end]\n",
    "  x = sol.t[t0_idx:end]\n",
    "  y = abs2.(nom_ca .- ca_sol)\n",
    "  loss2 = integrate(x,y)\n",
    "  return loss2\n",
    "end\n",
    "\n",
    "loss2(p0) #OK"
   ]
  },
  {
   "cell_type": "code",
   "execution_count": null,
   "id": "70203f43",
   "metadata": {},
   "outputs": [],
   "source": [
    "function lossgrad(p,g)\n",
    "  g[:] = ForwardDiff.gradient(p) do p\n",
    "    loss2(p)\n",
    "  end\n",
    "  return loss2(p)\n",
    "end"
   ]
  },
  {
   "cell_type": "code",
   "execution_count": null,
   "id": "bccb88d2",
   "metadata": {},
   "outputs": [],
   "source": [
    "cost_created = DiffCost(loss2, lossgrad);\n",
    "cost_created(p0)"
   ]
  },
  {
   "cell_type": "markdown",
   "id": "d4c46a5b",
   "metadata": {},
   "source": [
    "## Hessian\n",
    "\n",
    "not yet working"
   ]
  },
  {
   "cell_type": "code",
   "execution_count": null,
   "id": "467fe3bc",
   "metadata": {},
   "outputs": [],
   "source": [
    "@time hess = second_order_sensitivities(lossf_2, nom_prob,alg(), saveat=tsteps)"
   ]
  },
  {
   "cell_type": "markdown",
   "id": "a8bae48e",
   "metadata": {},
   "source": [
    "Calculate Hessian to find insensitive directions"
   ]
  },
  {
   "cell_type": "code",
   "execution_count": null,
   "id": "5c67188e",
   "metadata": {},
   "outputs": [],
   "source": [
    "\n",
    "# function G(p)\n",
    "#   tmp_prob = remake(nom_prob,p=p)\n",
    "#   sol = solve(tmp_prob,Rosenbrock23(),abstol=1e-14,reltol=1e-14)\n",
    "#   res,err = quadgk((t)-> (abs.(50.0 .- sol(t)[2])),400.0,800.0,atol=1e-14,rtol=1e-10)\n",
    "#   res\n",
    "# end\n",
    "# res2 = ForwardDiff.gradient(G,p0)\n"
   ]
  },
  {
   "cell_type": "code",
   "execution_count": null,
   "id": "bb28c3ff",
   "metadata": {},
   "outputs": [],
   "source": [
    "# never ending...\n",
    "g = x -> ForwardDiff.hessian(loss2, x)\n",
    "@time g(p0)"
   ]
  },
  {
   "cell_type": "markdown",
   "id": "b5a43c20",
   "metadata": {},
   "source": [
    "## MD Curve\n",
    "Try initial direction along A, CaT only (indexes 3,4). All other params. are fixed"
   ]
  },
  {
   "cell_type": "code",
   "execution_count": null,
   "id": "2d30283d",
   "metadata": {},
   "outputs": [],
   "source": [
    "idxs = [3, 4]\n",
    "OFA = only_free_params(p0, idxs)\n",
    "od, ic, ps = transform_problem(nom_prob,OFA; unames = first.(ic), pnames = first.(ps))\n",
    "prob = ODEProblem(od,ic,tspan,ps)\n",
    "\n",
    "init_dir = [0., 0., 0.2, 1.0, 0., 0., 0.];\n",
    "momentum = 9000.; span = (-15.,15.)"
   ]
  },
  {
   "cell_type": "code",
   "execution_count": null,
   "id": "a637d4ea",
   "metadata": {},
   "outputs": [],
   "source": [
    "curve_prob = curveProblem(cost, p0, init_dir, momentum, span)\n",
    "@time mdc = evolve(curve_prob, Tsit5)"
   ]
  },
  {
   "cell_type": "code",
   "execution_count": null,
   "id": "a7894746",
   "metadata": {
    "scrolled": true
   },
   "outputs": [],
   "source": [
    "plot()\n",
    "p1 = plot(mdc)"
   ]
  },
  {
   "cell_type": "code",
   "execution_count": null,
   "id": "a1af3096",
   "metadata": {},
   "outputs": [],
   "source": [
    "s = 10\n",
    "function check_sol_at_dist(s, prob, mdc)\n",
    "    prob = remake(prob;p = mdc(s)[:states])\n",
    "    return solve(prob, Rosenbrock23())   \n",
    "end\n",
    "ss = check_sol_at_dist(s,nom_prob,mdc)\n",
    "p1 = plot(ss)"
   ]
  },
  {
   "cell_type": "code",
   "execution_count": null,
   "id": "765b5743",
   "metadata": {},
   "outputs": [],
   "source": []
  },
  {
   "cell_type": "code",
   "execution_count": null,
   "id": "cc67a7d8",
   "metadata": {},
   "outputs": [],
   "source": []
  }
 ],
 "metadata": {
  "kernelspec": {
   "display_name": "Julia 1.6.2",
   "language": "julia",
   "name": "julia-1.6"
  },
  "language_info": {
   "file_extension": ".jl",
   "mimetype": "application/julia",
   "name": "julia",
   "version": "1.6.2"
  }
 },
 "nbformat": 4,
 "nbformat_minor": 5
}
